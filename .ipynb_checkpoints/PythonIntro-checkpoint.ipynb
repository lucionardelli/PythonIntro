{
 "cells": [
  {
   "cell_type": "markdown",
   "metadata": {
    "slideshow": {
     "slide_type": "slide"
    }
   },
   "source": [
    "# Python: la pequeña introducción de un grande\n",
    "\n",
    "<img src=\"https://realpython.com/learn/python-first-steps/images/pythonlogo.jpg\" height=\"400\" width=\"400\" style=\"float:right\">\n",
    "\n",
    "## Características de Python\n",
    "¿Donde encaja Python en el universo de los lenguajes actuales?. Python es un lenguaje multiparadigma,\n",
    "interpretado (con compilación a byte-code), con manejo automático de memoria, tipado dinámico pero\n",
    "fuerte. Tiene manejo moderno de errores, datos de alto nivel y baterias incluidas.\n",
    "\n",
    "### Algunas características\n",
    "\n",
    "- Multiparadigma: En Python todos son objetos, pero puede usarse de manera de procedural.\n",
    "- Interpretado: Se compila de manera implícita y automática.\n",
    "- Tipado dinámico y fuerte: Las variables se usan directamente sin que su tipo sea declarado con anterioridad."
   ]
  },
  {
   "cell_type": "code",
   "execution_count": 1,
   "metadata": {
    "collapsed": false,
    "scrolled": false,
    "slideshow": {
     "slide_type": "subslide"
    }
   },
   "outputs": [
    {
     "name": "stdout",
     "output_type": "stream",
     "text": [
      "Hello world...\n"
     ]
    }
   ],
   "source": [
    "import __hello__"
   ]
  },
  {
   "cell_type": "markdown",
   "metadata": {
    "slideshow": {
     "slide_type": "slide"
    }
   },
   "source": [
    "Python es un lenguaje de programación fácil de aprender y potente. Python es un lenguaje de programación dinámico\n",
    "orientado a objetos. Es un lenguaje de programación de propósito general.\n",
    "Python fue lanzado por primera vez en 1991, desarrollado inicialmente por Guido van Rossum.\n",
    "Python es un proyecto de código abierto, administrado por la Python Software Foundation.\n",
    "Su nombre es inspirado el la serie The Monty Python de la BBC de Londres.\n",
    "\n",
    "En palabras de su creador:\n",
    ">+ Borrow ideas from elsewhere whenever it makes sense.\n",
    ">+ “Things should be as simple as possible, but no simpler.” (Einstein)\n",
    ">+ Do one thing well (The \"UNIX philosophy\").\n",
    ">+ Don’t fret too much about performance--plan to optimize later when needed.\n",
    ">+ Don’t fight the environment and go with the flow.\n",
    ">+ Don’t try for perfection because “good enough” is often just that.\n",
    ">+ (Hence) it’s okay to cut corners sometimes, especially if you can do it right later."
   ]
  },
  {
   "cell_type": "markdown",
   "metadata": {
    "slideshow": {
     "slide_type": "slide"
    }
   },
   "source": [
    "Python tiene una filosofía de diseño que hace hincapié en la legibilidad del código (especialmente mediante la indentación de espacios en blanco para delimitar bloques de código en lugar de llaves o palabras clave) y una sintaxis que permite a los programadores expresar conceptos en menos líneas de código que en lenguajes como C++ o Java. El lenguaje proporciona construcciones destinadas a permitir la escritura de programas claros, tanto a pequeña como a gran escala.\n",
    "\n",
    "Tanto es así que hasta el mismo Python nos dice esto:"
   ]
  },
  {
   "cell_type": "code",
   "execution_count": 2,
   "metadata": {
    "collapsed": false,
    "scrolled": true,
    "slideshow": {
     "slide_type": "slide"
    }
   },
   "outputs": [
    {
     "name": "stdout",
     "output_type": "stream",
     "text": [
      "The Zen of Python, by Tim Peters\n",
      "\n",
      "Beautiful is better than ugly.\n",
      "Explicit is better than implicit.\n",
      "Simple is better than complex.\n",
      "Complex is better than complicated.\n",
      "Flat is better than nested.\n",
      "Sparse is better than dense.\n",
      "Readability counts.\n",
      "Special cases aren't special enough to break the rules.\n",
      "Although practicality beats purity.\n",
      "Errors should never pass silently.\n",
      "Unless explicitly silenced.\n",
      "In the face of ambiguity, refuse the temptation to guess.\n",
      "There should be one-- and preferably only one --obvious way to do it.\n",
      "Although that way may not be obvious at first unless you're Dutch.\n",
      "Now is better than never.\n",
      "Although never is often better than *right* now.\n",
      "If the implementation is hard to explain, it's a bad idea.\n",
      "If the implementation is easy to explain, it may be a good idea.\n",
      "Namespaces are one honking great idea -- let's do more of those!\n"
     ]
    }
   ],
   "source": [
    "import this"
   ]
  },
  {
   "cell_type": "markdown",
   "metadata": {
    "slideshow": {
     "slide_type": "slide"
    }
   },
   "source": [
    "## Python, un primer vistazo"
   ]
  },
  {
   "cell_type": "code",
   "execution_count": 3,
   "metadata": {
    "collapsed": false,
    "scrolled": true,
    "slideshow": {
     "slide_type": "subslide"
    }
   },
   "outputs": [
    {
     "name": "stdout",
     "output_type": "stream",
     "text": [
      "Bienvenidos al maravilloso mundo de Python.\n",
      "Nombre 1: a\n",
      "Nombre 2: b\n",
      "Nombre 3: c\n",
      "Nombre 4: d\n",
      "Hola a\n",
      "Hola b\n",
      "Hola c\n",
      "Hola d\n",
      "Edad de a: 2\n",
      "Edad de b: 3\n",
      "Edad de c: 4\n",
      "Edad de d: 5\n",
      "Muy bien! Una edad de  3.5\n"
     ]
    }
   ],
   "source": [
    "saludo = \"Bienvenidos al maravilloso mundo de Python.\"\n",
    "print(saludo)\n",
    "pasante1 = raw_input(\"Nombre 1: \")\n",
    "pasante2 = raw_input(\"Nombre 2: \")\n",
    "pasante3 = raw_input(\"Nombre 3: \")\n",
    "pasante4 = raw_input(\"Nombre 4: \")\n",
    "print \"Hola \" + pasante1\n",
    "print \"Hola \" + pasante2\n",
    "print \"Hola \" + pasante3\n",
    "print \"Hola \" + pasante4\n",
    "pasante1 = int(raw_input(\"Edad de \" + pasante1 + \": \"))\n",
    "pasante2 = int(raw_input(\"Edad de \" + pasante2 + \": \" ))\n",
    "pasante3 = int(raw_input(\"Edad de \" + pasante3 + \": \" ))\n",
    "pasante4 = int(raw_input(\"Edad de \" + pasante4 + \": \" ))\n",
    "promedio = (pasante1 + pasante2 + pasante3 + pasante4) / 4.0\n",
    "print \"Muy bien! Una edad de \", promedio"
   ]
  },
  {
   "cell_type": "markdown",
   "metadata": {
    "slideshow": {
     "slide_type": "slide"
    }
   },
   "source": [
    "Pero, pero...¡pará! Hace 5 minutos que empezamos y ya me están mintiendo...¿No es que Python era un lenguaje tipado? \n",
    "\n",
    "Veamos... ¿Qué se enttiende por tipado? \n",
    "\n",
    "##### PHP\n",
    "```PHP\n",
    "<?php \n",
    "echo '2' + 1 ; ?>\n",
    "```\n",
    "Nos mostraría:\n",
    "```PHP\n",
    "3\n",
    "```\n",
    "#### JS\n",
    "```javascript\n",
    "‘2’ + 1\n",
    "```\n",
    "Nos mostraría\n",
    "```javascript\n",
    "21\n",
    "```\n",
    "#### Python"
   ]
  },
  {
   "cell_type": "code",
   "execution_count": 4,
   "metadata": {
    "collapsed": false,
    "scrolled": true,
    "slideshow": {
     "slide_type": "slide"
    }
   },
   "outputs": [
    {
     "ename": "SyntaxError",
     "evalue": "invalid syntax (<ipython-input-4-3c3e26227efd>, line 6)",
     "output_type": "error",
     "traceback": [
      "\u001b[0;36m  File \u001b[0;32m\"<ipython-input-4-3c3e26227efd>\"\u001b[0;36m, line \u001b[0;32m6\u001b[0m\n\u001b[0;31m    En C, no exiten los booleanos y muchas veces debemos hacer:\u001b[0m\n\u001b[0m       ^\u001b[0m\n\u001b[0;31mSyntaxError\u001b[0m\u001b[0;31m:\u001b[0m invalid syntax\n"
     ]
    }
   ],
   "source": [
    "'2'+ 1\n",
    "\n",
    "## Tipos de datos\n",
    "\n",
    "### Booleanos\n",
    "En C, no exiten los booleanos y muchas veces debemos hacer:\n",
    "\n",
    "```C\n",
    "typedef\n",
    "{\n",
    "    FALSE,\n",
    "    TRUE\n",
    "} boolean;\n",
    "```\n",
    "\n",
    "En Python por el contrario, existe el tipo de datos `bool` para representar esto mismo (e incluso su son más parecidos a lo anterior de lo que parece...)."
   ]
  },
  {
   "cell_type": "code",
   "execution_count": null,
   "metadata": {
    "collapsed": false,
    "scrolled": true,
    "slideshow": {
     "slide_type": "slide"
    }
   },
   "outputs": [],
   "source": [
    "love = this\n",
    "this is love"
   ]
  },
  {
   "cell_type": "code",
   "execution_count": null,
   "metadata": {
    "collapsed": false,
    "scrolled": true,
    "slideshow": {
     "slide_type": "subslide"
    }
   },
   "outputs": [],
   "source": [
    "love is True"
   ]
  },
  {
   "cell_type": "code",
   "execution_count": null,
   "metadata": {
    "collapsed": false,
    "scrolled": true,
    "slideshow": {
     "slide_type": "subslide"
    }
   },
   "outputs": [],
   "source": [
    "love is False"
   ]
  },
  {
   "cell_type": "code",
   "execution_count": null,
   "metadata": {
    "collapsed": false,
    "scrolled": true,
    "slideshow": {
     "slide_type": "subslide"
    }
   },
   "outputs": [],
   "source": [
    "love is not True and love is not False; love is love"
   ]
  },
  {
   "cell_type": "markdown",
   "metadata": {
    "slideshow": {
     "slide_type": "slide"
    }
   },
   "source": [
    "Era así no más, batteries included... =D\n",
    "\n",
    "\n",
    "### Cadenas (str)\n",
    "Los string o cadenas son secuencias de símbolos ordenados. El manejo de cadenas en Python es bastante intuitivo. Hay que tener en cuenta que las cadenas es un tipo de datos inmutable. Un string una vez creado no puede modificarse. Veamos algunas operaciones comunes asociadas a las cadenas:"
   ]
  },
  {
   "cell_type": "code",
   "execution_count": null,
   "metadata": {
    "collapsed": false,
    "scrolled": true,
    "slideshow": {
     "slide_type": "slide"
    }
   },
   "outputs": [],
   "source": [
    "cadena = 'Hola mundo!'\n",
    "print cadena"
   ]
  },
  {
   "cell_type": "code",
   "execution_count": null,
   "metadata": {
    "collapsed": false,
    "scrolled": true,
    "slideshow": {
     "slide_type": "subslide"
    }
   },
   "outputs": [],
   "source": [
    "print len(cadena)"
   ]
  },
  {
   "cell_type": "code",
   "execution_count": null,
   "metadata": {
    "collapsed": false,
    "scrolled": true,
    "slideshow": {
     "slide_type": "subslide"
    }
   },
   "outputs": [],
   "source": [
    "print cadena.lower()"
   ]
  },
  {
   "cell_type": "code",
   "execution_count": null,
   "metadata": {
    "collapsed": false,
    "scrolled": true,
    "slideshow": {
     "slide_type": "subslide"
    }
   },
   "outputs": [],
   "source": [
    "print cadena.upper()"
   ]
  },
  {
   "cell_type": "code",
   "execution_count": null,
   "metadata": {
    "collapsed": false,
    "scrolled": true,
    "slideshow": {
     "slide_type": "subslide"
    }
   },
   "outputs": [],
   "source": [
    "print cadena.count('o')"
   ]
  },
  {
   "cell_type": "markdown",
   "metadata": {
    "slideshow": {
     "slide_type": "slide"
    }
   },
   "source": [
    "Los strings se pueden acceder por posición iniciando los índices en 0 como en C:"
   ]
  },
  {
   "cell_type": "code",
   "execution_count": null,
   "metadata": {
    "collapsed": false,
    "scrolled": true,
    "slideshow": {
     "slide_type": "subslide"
    }
   },
   "outputs": [],
   "source": [
    "print cadena[0]\n",
    "print cadena[1]\n",
    "print cadena[2]\n",
    "print cadena[3]"
   ]
  },
  {
   "cell_type": "markdown",
   "metadata": {
    "slideshow": {
     "slide_type": "slide"
    }
   },
   "source": [
    "Pero, a diferencia de C, Python tiene una manera que ha probado ser muy útil y práctica (una vez que le logramos agarrar la mano!): acceder a la lista “desde atrás” utilizando índices negativos.\n",
    "¿No es esta la forma más natural de acceder una cadena?"
   ]
  },
  {
   "cell_type": "code",
   "execution_count": null,
   "metadata": {
    "collapsed": false,
    "scrolled": true,
    "slideshow": {
     "slide_type": "slide"
    }
   },
   "outputs": [],
   "source": [
    "print cadena[-4]\n",
    "print cadena[-2]"
   ]
  },
  {
   "cell_type": "markdown",
   "metadata": {
    "slideshow": {
     "slide_type": "slide"
    }
   },
   "source": [
    "Otra forma de acceder a los strings es mediante el uso de slicing. Para esto, lo que hacemos es indicar las “fetas” (no de mortadela, si no de string) que querémos, indicando “desde donde” y “hasta donde” queremos “cortar”."
   ]
  },
  {
   "cell_type": "raw",
   "metadata": {
    "slideshow": {
     "slide_type": "slide"
    }
   },
   "source": [
    "    -6 -5  -4  -3  -2  -1   0\n",
    "    +---+---+---+---+---+---+\n",
    "    | P | y | t | h | o | n |\n",
    "    +---+---+---+---+---+---+\n",
    "    0    1   2   3   4   5   6"
   ]
  },
  {
   "cell_type": "markdown",
   "metadata": {
    "slideshow": {
     "slide_type": "slide"
    }
   },
   "source": [
    "Veamos, qué valores tendrán los siguientes “embutidos”:"
   ]
  },
  {
   "cell_type": "code",
   "execution_count": null,
   "metadata": {
    "collapsed": false,
    "scrolled": true,
    "slideshow": {
     "slide_type": "slide"
    }
   },
   "outputs": [],
   "source": [
    "fiambreria = 'Python'\n",
    "mortadela = fiambreria[2:5]\n",
    "jamon = fiambreria[1:1]\n",
    "pastron = fiambreria[-5:2]\n",
    "lomo = fiambreria[4:2]\n",
    "salame = fiambreria[1:5:3]"
   ]
  },
  {
   "cell_type": "code",
   "execution_count": null,
   "metadata": {
    "collapsed": false,
    "scrolled": true,
    "slideshow": {
     "slide_type": "slide"
    }
   },
   "outputs": [],
   "source": [
    "print mortadela"
   ]
  },
  {
   "cell_type": "code",
   "execution_count": null,
   "metadata": {
    "collapsed": false,
    "scrolled": true,
    "slideshow": {
     "slide_type": "slide"
    }
   },
   "outputs": [],
   "source": [
    "print jamon"
   ]
  },
  {
   "cell_type": "code",
   "execution_count": null,
   "metadata": {
    "collapsed": false,
    "scrolled": true,
    "slideshow": {
     "slide_type": "slide"
    }
   },
   "outputs": [],
   "source": [
    "print pastron"
   ]
  },
  {
   "cell_type": "code",
   "execution_count": null,
   "metadata": {
    "collapsed": false,
    "scrolled": true,
    "slideshow": {
     "slide_type": "slide"
    }
   },
   "outputs": [],
   "source": [
    "print lomo"
   ]
  },
  {
   "cell_type": "code",
   "execution_count": null,
   "metadata": {
    "collapsed": false,
    "scrolled": true,
    "slideshow": {
     "slide_type": "slide"
    }
   },
   "outputs": [],
   "source": [
    "print salame"
   ]
  },
  {
   "cell_type": "markdown",
   "metadata": {
    "slideshow": {
     "slide_type": "slide"
    }
   },
   "source": [
    "Además, los strings poseen muchas otras funcionalidades muy útiles como pueden ser `upper`, `lower`, `split` o `startswith`.\n",
    "\n",
    "### Listas\n",
    "\n",
    "Las listas, al igual que las cadenas, son datos ordenados. Una diferencia importante es que es un tipo de dato derivado, también llamado contenedor.\n",
    "Las listas contienen como elementos a enteros, a cadenas o incluso a otras listas. Una lista en Python es una secuencia ordenada de datos que puede ser modificada.\n",
    "Las listas pueden accederse de manera similar a los strings y poseen además funcionalidades particulares específicas de ellas como ser `append` (agrega un elemento al final) y `pop` (saca un elemento del final).\n",
    "\n",
    "A continuación algunas operaciones elementales con listas, como así también la notación usada para acceder a sus elementos.\n"
   ]
  },
  {
   "cell_type": "code",
   "execution_count": null,
   "metadata": {
    "collapsed": true,
    "scrolled": true,
    "slideshow": {
     "slide_type": "slide"
    }
   },
   "outputs": [],
   "source": [
    "mi_lista = [1,2,3]\n",
    "mi_lista.append(5)"
   ]
  },
  {
   "cell_type": "code",
   "execution_count": null,
   "metadata": {
    "collapsed": false,
    "scrolled": true,
    "slideshow": {
     "slide_type": "slide"
    }
   },
   "outputs": [],
   "source": [
    "print mi_lista"
   ]
  },
  {
   "cell_type": "code",
   "execution_count": null,
   "metadata": {
    "collapsed": false,
    "scrolled": true,
    "slideshow": {
     "slide_type": "slide"
    }
   },
   "outputs": [],
   "source": [
    "mi_lista.pop()\n",
    "print mi_lista"
   ]
  },
  {
   "cell_type": "code",
   "execution_count": null,
   "metadata": {
    "collapsed": false,
    "scrolled": true,
    "slideshow": {
     "slide_type": "slide"
    }
   },
   "outputs": [],
   "source": [
    "# Python: la pequeña introducción de un grandemi_lista + [4]"
   ]
  },
  {
   "cell_type": "code",
   "execution_count": null,
   "metadata": {
    "collapsed": false,
    "scrolled": true,
    "slideshow": {
     "slide_type": "slide"
    }
   },
   "outputs": [],
   "source": [
    "print mi_lista"
   ]
  },
  {
   "cell_type": "code",
   "execution_count": null,
   "metadata": {
    "collapsed": false,
    "scrolled": true,
    "slideshow": {
     "slide_type": "slide"
    }
   },
   "outputs": [],
   "source": [
    "mi_lista = mi_lista + [4]\n",
    "print mi_lista"
   ]
  },
  {
   "cell_type": "markdown",
   "metadata": {
    "slideshow": {
     "slide_type": "slide"
    }
   },
   "source": [
    "Al igual que los strings, las listas también están indexadas desde 0 y se usan números negativos para contar desde la derecha:\n"
   ]
  },
  {
   "cell_type": "code",
   "execution_count": null,
   "metadata": {
    "collapsed": false,
    "scrolled": true,
    "slideshow": {
     "slide_type": "slide"
    }
   },
   "outputs": [],
   "source": [
    "print mi_lista[0]\n",
    "print mi_lista[3]\n",
    "print mi_lista[-2]"
   ]
  },
  {
   "cell_type": "markdown",
   "metadata": {
    "slideshow": {
     "slide_type": "slide"
    }
   },
   "source": [
    "Y se puede utilizar también _slice notation_:"
   ]
  },
  {
   "cell_type": "code",
   "execution_count": null,
   "metadata": {
    "collapsed": false,
    "scrolled": true,
    "slideshow": {
     "slide_type": "slide"
    }
   },
   "outputs": [],
   "source": [
    "print mi_lista[3:5]"
   ]
  },
  {
   "cell_type": "markdown",
   "metadata": {
    "slideshow": {
     "slide_type": "slide"
    }
   },
   "source": [
    "## Ejercicio 1\n",
    "\n",
    "Ya sabemos mucho sobre Python! Momento de ensuciarnos las manos un poco. Vamos a intentar mezclar ambos tipos de datos.\n",
    "\n",
    "Estabamos trabajando con el string \"Hola mundo!\". ¿Y si quisiesemos obtener una lista con cada una de las palabras de este string?\n",
    "\n",
    "Una posibilidad sería"
   ]
  },
  {
   "cell_type": "code",
   "execution_count": null,
   "metadata": {
    "collapsed": false,
    "scrolled": true,
    "slideshow": {
     "slide_type": "slide"
    }
   },
   "outputs": [],
   "source": [
    "cadena = \"Hola mundo!\"\n",
    "\n",
    "naive_arreglo = [\"Hola\", \"mundo!\"]\n",
    "\n",
    "print naive_arreglo"
   ]
  },
  {
   "cell_type": "markdown",
   "metadata": {
    "slideshow": {
     "slide_type": "slide"
    }
   },
   "source": [
    "Pero, ¿si la cadena de texto que queremos dividir tuviese 3 palabras? ¿Y si tuviese 1000? \n",
    "\n",
    "Podemos utilizar una función de las cadenas que permite dividir un string según un cierto \"substring\" en una lista"
   ]
  },
  {
   "cell_type": "code",
   "execution_count": null,
   "metadata": {
    "collapsed": false,
    "scrolled": true,
    "slideshow": {
     "slide_type": "slide"
    }
   },
   "outputs": [],
   "source": [
    "arreglo = cadena.split(' ')\n",
    "\n",
    "print arreglo"
   ]
  },
  {
   "cell_type": "markdown",
   "metadata": {
    "slideshow": {
     "slide_type": "slide"
    }
   },
   "source": [
    "## Ejercicio 2\n",
    "\n",
    "El estimado Theodor Seuss Geisel siempre tuvo ganas de resolver el problema de saber cuantas veces se repite cada palabra en un cierto texto:\n",
    "\n",
    "> the green cat had a green hat then the green cat sat on the green hat and had ham and green eggs\n",
    "\n",
    "A manera de homenaje póstumo, ¡vamos a ayudar al Dr. Seuss con su último deseo! ¿Cómo podríamos hacer esto?"
   ]
  },
  {
   "cell_type": "markdown",
   "metadata": {
    "slideshow": {
     "slide_type": "slide"
    }
   },
   "source": [
    "## Estructurando el código: Funciones\n",
    "\n",
    "### ¿Qué son las funciones?\n",
    "Las funciones son pequeños programas autónomos que realizan una tarea específica, que puede incorporar combinarse en funcionas más grandes. \n",
    "Después de haber creado una función, puede utilizarse en cualquier momento, en cualquier lugar. Esto ahorra el tiempo y el esfuerzo de tener que volver a contar el equipo qué hacer cada vez que realiza una tarea común.\n",
    "\n",
    "### ¿Cuando es un buen momento para definir una función?\n",
    "\n",
    "Una función, conceptualmente, debería realizar una única tarea. Debe \"saber\" como realizar esta tarea. Como regla general, una tarea que se repita en su totalidad o que se realice de manera similar en varias oportunidades nos indica que es un buen momento de definir una función.\n",
    "\n",
    "\n",
    "### ¿Cómo se define una función en Python?\n",
    "\n",
    "- Los bloques de función comienzan con la palabra clave def seguido por el nombre de la función y los paréntesis (()).\n",
    "\n",
    "- Cualquier parámetro o argumento de entrada debe colocarse dentro de estos paréntesis.\n",
    "\n",
    "- El bloque de código dentro de cada función comienza con dos puntos (:) y está identado en un mismo nivel.\n",
    "\n",
    "- Es una buena idea mantener como primer línea de la definición de una función una cadena de documentación de la función (o docstring).\n",
    "\n",
    "- La instrucción `return` sale de una función, opcionalmente devolviendo una expresión a quién la ejecutó. \n",
    "\n",
    "```Python\n",
    "    def Nombre(parametro_1, parametro_2, ....):\n",
    "       \"\"\" Documentación según estilo DOCSTRING \n",
    "       \"\"\"\n",
    "       # <codigo1>\n",
    "       # <codigo2>\n",
    "       # ...\n",
    "       return DATA```\n",
    "       \n",
    "\n",
    "### Ámbito de una función\n",
    "Los valores declarados en una función son reconocidos solamente dentro de la función. Cuando un valor\n",
    "no es encontrado en el ámbito donde se la invoca, se busca en el ámbito inmediatamente anterior.\n",
    "\n",
    "Se puede usar global para declarar variables globales dentro de funciones, aunque su uso no es\n",
    "recomendable (no es thread safe). Estas variables globales nos permiten declarar variables dentro de\n",
    "funciones cuyos valores se mantengan fuera del scope donde se declararon\n",
    " "
   ]
  },
  {
   "cell_type": "code",
   "execution_count": null,
   "metadata": {
    "collapsed": false,
    "scrolled": true,
    "slideshow": {
     "slide_type": "slide"
    }
   },
   "outputs": [],
   "source": [
    "variable_global = 0\n",
    "def suma_global():\n",
    "    global variable_global\n",
    "    variable_global = variable_global + 1\n",
    "    return\n",
    "\n",
    "suma_global()\n",
    "\n",
    "print variable_global"
   ]
  },
  {
   "cell_type": "markdown",
   "metadata": {
    "slideshow": {
     "slide_type": "slide"
    }
   },
   "source": [
    "### Parametros con valores por defecto\n",
    "\n",
    "Los parámetros de una función corresponden a valores declarados dentro de los paréntesis de la definción y toman el valor dependiendo del valor pasado cuando se llama.\n",
    "\n",
    "Sin embargo, en Python también se pueden declarar valores por defecto para los parámetros en caso de que el argumento no sea pasado en el momento de ejecutarla.\n",
    "\n",
    "Para hacer esto, se indican los valores por defecto de la forma `clave=valor` dentro de la definicón de la función:"
   ]
  },
  {
   "cell_type": "code",
   "execution_count": null,
   "metadata": {
    "collapsed": false,
    "scrolled": true,
    "slideshow": {
     "slide_type": "slide"
    }
   },
   "outputs": [],
   "source": [
    "def monty(spam='Monty Python'):\n",
    "    print spam\n",
    "\n",
    "monthy()"
   ]
  },
  {
   "cell_type": "markdown",
   "metadata": {
    "slideshow": {
     "slide_type": "slide"
    }
   },
   "source": [
    "\n",
    "### Cantidad indeterminada de parámetros posicionales\n",
    "\n",
    "Python permite la definición de funciones con un número indeterminado de argumentos. Para esto se hace uso de las listas y se le pasa una lista de arguntos.\n",
    "Para esto, el parámetro que representa la lista de longitud indeterminada de argunmentos es precedido por un \"*\":\n",
    "\n",
    "```Python\n",
    "    def promedio_edades(*edades):\n",
    "       # calcular promedio de edades     \n",
    "```\n",
    "\n",
    "También es posible combinar parametros posicionales fijos con indeterminados, en ese caso hay que usar el\n",
    "parámetro indeterminado a continuación del último parámetro fijo:\n",
    "\n",
    "```Python\n",
    "    def monty_python(eggs, *spam):\n",
    "        pass\n",
    "```\n",
    "\n",
    "¿Cuantos argumentos espera la función `monty_python`?"
   ]
  },
  {
   "cell_type": "markdown",
   "metadata": {
    "slideshow": {
     "slide_type": "slide"
    }
   },
   "source": [
    "### Cantidad indeterminada de parámetros con clave (keyword)\n",
    "\n",
    "Este caso es similar al anterior, pero permite utilizar parámetros asociados a un nombre de variable. En este caso se usa “ <span>**</span>”:\n",
    "\n",
    "```Python\n",
    "    def foo(argumento, **parametros_con_clave):\n",
    "        pass```"
   ]
  },
  {
   "cell_type": "markdown",
   "metadata": {
    "slideshow": {
     "slide_type": "slide"
    }
   },
   "source": [
    "¡Muy bien! ¡Ya sebemos mucho de funciones! ¿Cómo pueden ayudarnos a resolver la problemática del Dr. Seuss? \n",
    "\n",
    "En este caso, odemos identificar dos tareas diferentes:\n",
    "\n",
    "- Contar la cantidad de palabras en el texto\n",
    "- Mostrar el resultado\n",
    "\n",
    "De poco serviría un programa que cuente las palabras pero se guarde el resultado y no lo comparte con los ávidos usuarios. Entonces:"
   ]
  },
  {
   "cell_type": "code",
   "execution_count": null,
   "metadata": {
    "collapsed": false,
    "scrolled": true,
    "slideshow": {
     "slide_type": "slide"
    }
   },
   "outputs": [],
   "source": [
    "texto = \"the green cat had a green hat then the green cat sat on the green hat and had ham and green eggs\"\n",
    "\n",
    "def contar(texto_a_contar):\n",
    "    \"\"\" Recibimos una cadena de texto con el formato usual (cada palabra separada por un único espacio)\n",
    "        y sin caracteres especiales (no consideramos puntos, comas, signos de exclamación)\n",
    "        y se deben contar las apariciones de cada una de las palabras en el texto.\n",
    "    \"\"\"\n",
    "    # Podemos aprovechar lo que vimos en el ejercicio anterior para dividir en palabras\n",
    "    lista_de_palabras = texto_a_contar.split(' ')\n",
    "    # Y ahora? Cómo lo hacemos? Una variable entera por palabra? Dos listas?\n",
    "    pass\n",
    "\n",
    "def mostrar(resultado):\n",
    "    \"\"\" Dados los resultados de contar las ocurrencias de las palabras en un texto, lo mostramos\n",
    "    \"\"\"\n",
    "    # Y acá? Cómo lo mostramos? Como respresentamos el resultado?\n",
    "    pass"
   ]
  },
  {
   "cell_type": "markdown",
   "metadata": {
    "slideshow": {
     "slide_type": "slide"
    }
   },
   "source": [
    "Ya tenemos la estructura general, pero ahora...¿Cómo seguimos?\n",
    "\n",
    "##### Veamos si nuestro amigo el profesor Farnsworth puede ayudarnos..."
   ]
  },
  {
   "cell_type": "code",
   "execution_count": null,
   "metadata": {
    "collapsed": false,
    "scrolled": true,
    "slideshow": {
     "slide_type": "slide"
    }
   },
   "outputs": [],
   "source": [
    "from IPython.display import YouTubeVideo; YouTubeVideo('g8IVI0sZ6F8')"
   ]
  },
  {
   "cell_type": "markdown",
   "metadata": {
    "slideshow": {
     "slide_type": "slide"
    }
   },
   "source": [
    "### Diccionarios (estructura de tipo hash table)\n",
    "\n",
    "<img src=\"http://www.memegasms.com/media/created/vhyfxm.jpg\"/>\n",
    "\n",
    "\n",
    "Python posee una estructura que hace que ayudar al Dr. Seuss sea mucho más fácil: los **_diccionarios_**\n",
    "\n",
    "Las listas son conjuntos ordenados de objetos, mientras que los diccionarios son conjuntos no ordenados. \n",
    "Pero la principal diferencia no es esta, si no es que los elementos de los diccionarios se acceden a través de las claves y no a través de su posición. \n",
    "\n",
    "Un diccionario es un arreglo asociativo (cof cof *hash* cof cof) indexado por clave.\n",
    "\n",
    "Cualquier clave del diccionario está asociada (o asignada) a un valor. Los valores de un diccionario pueden ser cualquier tipo de datos Python. \n",
    "\n",
    "Resumiendo los diccionarios son una estructura contenedora de pares clave-valor no ordenados."
   ]
  },
  {
   "cell_type": "code",
   "execution_count": null,
   "metadata": {
    "collapsed": false,
    "scrolled": true
   },
   "outputs": [],
   "source": [
    "# Inicializamos la cuenta de cada una de las palabras en 0\n",
    "repeticiones = {\n",
    " 'the': 0,\n",
    " 'green': 0,\n",
    " 'cat': 0,\n",
    " 'had': 0,\n",
    " 'a': 0,\n",
    " 'hat': 0,\n",
    " 'then': 0,\n",
    " 'sat': 0,\n",
    " 'on': 0,\n",
    " 'and': 0,\n",
    " 'ham': 0,\n",
    " 'eggs': 0,\n",
    "}\n",
    "\n",
    "def mostrar(diccionario):\n",
    "    \"\"\" Dado un diccionario de entrada lo mostramos.\n",
    "    \"\"\"\n",
    "    print diccionario"
   ]
  },
  {
   "cell_type": "markdown",
   "metadata": {},
   "source": [
    "Pero...¿Cómo vamos a agregar cada palabra al diccionario? ¡Necesitamos recorrer la lista de palabras!\n",
    "\n",
    "## Estructuras de control\n",
    "\n",
    "### Estructura de repetición: while\n",
    "\n",
    "Es para ejecutar un bloque de código repetidas veces, siempre y cuando una condición sea verdadera.\n",
    "\n",
    "Normalmente dentro del bloque de código hay alguna instrucción que cambia un valor para que esto\n",
    "ocurra y el ciclo termine."
   ]
  },
  {
   "cell_type": "code",
   "execution_count": null,
   "metadata": {
    "collapsed": false,
    "scrolled": true
   },
   "outputs": [],
   "source": [
    "i = 0\n",
    "while i < 5:\n",
    "    print i\n",
    "    i = i + 1"
   ]
  },
  {
   "cell_type": "markdown",
   "metadata": {},
   "source": [
    "### Estructura de repetición: for\n",
    "\n",
    "A diferencia de lenguajes como C, donde no hay mayor diferencia entre un `while` y un `for`, en Python el `for` es simplemente un iterador. Se utiliza para recorrer elementos de alguna estructura iterable y permite realizar acciones sobre cada uno de los elementos.\n",
    "\n",
    "¿Qué tipos de datos de los que hemos visto hasta ahora podrían ser iterados? ¡Las listas!"
   ]
  },
  {
   "cell_type": "code",
   "execution_count": null,
   "metadata": {
    "collapsed": false,
    "scrolled": true
   },
   "outputs": [],
   "source": [
    "texto = \"the green cat had a green hat then the green cat sat on the green hat and had ham and green eggs\"\n",
    "\n",
    "lista_de_palabras = texto.split(' ')\n",
    "\n",
    "for palabra in lista_de_palabras:\n",
    "    print palabra"
   ]
  },
  {
   "cell_type": "code",
   "execution_count": null,
   "metadata": {
    "collapsed": true,
    "scrolled": true
   },
   "outputs": [],
   "source": [
    "texto = \"the green cat had a green hat then the green cat sat on the green hat and had ham and green eggs\"\n",
    "\n",
    "def contar(texto_a_contar):\n",
    "    \"\"\" Recibimos una cadena de texto con el formato usual (cada palabra separada por un único espacio)\n",
    "        y sin caracteres especiales (no consideramos puntos, comas, signos de exclamación)\n",
    "        y se devuelve un diccionario donde cada clave representa una palabra y el valor asociado\n",
    "        corresponde a la cantidad de apariciones de la misma en el texto.\n",
    "    \"\"\"\n",
    "    # Podemos aprovechar lo que vimos en el ejercicio anterior para dividir en palabras\n",
    "    lista_de_palabras = texto_a_contar.split(' ')\n",
    "    # Inicializamos la cuenta de cada una de las palabras en 0\n",
    "    repeticiones = {\n",
    "        'the': 0,\n",
    "        'green': 0,\n",
    "        'cat': 0,\n",
    "        'had': 0,\n",
    "        'a': 0,\n",
    "        'hat': 0,\n",
    "        'then': 0,\n",
    "        'sat': 0,\n",
    "        'on': 0,\n",
    "        'and': 0,\n",
    "        'ham': 0,\n",
    "        'eggs': 0,\n",
    "    }    \n",
    "    for palabra in lista_de_palabras:\n",
    "        repeticiones[palabra] = repeticiones[palabra] + 1\n",
    "    return repeticiones\n",
    "\n",
    "def mostrar(diccionario):\n",
    "    \"\"\" Dado un diccionario de entrada lo mostramos.\n",
    "    \"\"\"\n",
    "    print diccionario"
   ]
  },
  {
   "cell_type": "markdown",
   "metadata": {},
   "source": [
    "Esto va tomando color...¡ya funciona!\n",
    "\n",
    "Pero, para poder escribir esto, debemos conocer de antemano las palabras que vamos a contar...¿No se suponía que Python era elegante? ¡Esto es todo menos elegante!\n",
    "### Estructura condicional: if\n",
    "\n",
    "Ademas del `while` y `for` ya vistos, ningún lenguaje que se precie puede carecer del buen conocido `if`. En particular, siguiento la idea de hacer código fácilmente legible y elegante, el `if` de Python permite fácilmente considerar múltples ramas."
   ]
  },
  {
   "cell_type": "code",
   "execution_count": null,
   "metadata": {
    "collapsed": false,
    "scrolled": true
   },
   "outputs": [],
   "source": [
    "texto = \"the green cat had a green hat then the green cat sat on the green hat and had ham and green eggs\"\n",
    "\n",
    "lista_de_palabras = texto.split(' ')\n",
    "\n",
    "# Mostraremos solo aquellas palabras que tengan al menos 4 letras\n",
    "# porque las otras son muy cortas y poco interantes.\n",
    "# Pero también queremos aquellas que empiezan con la letra 's' \n",
    "# porque...porque me gusta la 's'\n",
    "for palabra in lista_de_palabras:\n",
    "    if len(palabra) > 3:\n",
    "        print palabra\n",
    "    elif palabra[0] == 's':\n",
    "        print palabra\n",
    "    else:\n",
    "        pass"
   ]
  },
  {
   "cell_type": "markdown",
   "metadata": {},
   "source": [
    "Con todo esto, ya estamos en condiciones de honrar al Dr. Seuss como se lo merece, con un programa elegante e independiente de las palabras del texto:\n",
    "\n",
    "<br>\n",
    "# Dr. Seuss, here's our little tribute to you...\n",
    "<br>\n",
    "\n"
   ]
  },
  {
   "cell_type": "code",
   "execution_count": null,
   "metadata": {
    "collapsed": false,
    "scrolled": true
   },
   "outputs": [],
   "source": [
    "texto = \"the green cat had a green hat then the green cat sat on the green hat and had ham and green eggs\"\n",
    "\n",
    "def contar(texto_a_contar):\n",
    "    \"\"\" Recibimos una cadena de texto con el formato usual (cada palabra separada por un único espacio)\n",
    "        y sin caracteres especiales (no consideramos puntos, comas, signos de exclamación)\n",
    "        y se devuelve un diccionario donde cada clave representa una palabra y el valor asociado\n",
    "        corresponde a la cantidad de apariciones de la misma en el texto.\n",
    "    \"\"\"\n",
    "    repeticiones = {}\n",
    "    for palabra in texto_a_contar.split(' '):\n",
    "        if palabra in repeticiones:\n",
    "            repeticiones[palabra] = repeticiones[palabra] + 1\n",
    "        else:\n",
    "            repeticiones[palabra] = 1\n",
    "    return repeticiones\n",
    "\n",
    "def mostrar(diccionario):\n",
    "    \"\"\" Dado un diccionario de entrada lo mostramos de manera \n",
    "        amigable para el usuario.\n",
    "    \"\"\"\n",
    "    for key in diccionario:\n",
    "        print key + ' ---> ' + str(diccionario[key])\n",
    "\n",
    "resultado = contar(texto)        \n",
    "mostrar(resultado)"
   ]
  }
 ],
 "metadata": {
  "celltoolbar": "Slideshow",
  "kernelspec": {
   "display_name": "Python 2",
   "language": "python",
   "name": "python2"
  },
  "language_info": {
   "codemirror_mode": {
    "name": "ipython",
    "version": 2
   },
   "file_extension": ".py",
   "mimetype": "text/x-python",
   "name": "python",
   "nbconvert_exporter": "python",
   "pygments_lexer": "ipython2",
   "version": "2.7.9"
  }
 },
 "nbformat": 4,
 "nbformat_minor": 2
}
